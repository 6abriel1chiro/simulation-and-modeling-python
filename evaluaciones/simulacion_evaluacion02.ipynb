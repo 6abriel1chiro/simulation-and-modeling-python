{
 "cells": [
  {
   "cell_type": "code",
   "execution_count": 2,
   "metadata": {},
   "outputs": [],
   "source": [
    "import numpy\n",
    "import matplotlib.pyplot as pl\n",
    "import matplotlib\n",
    "from EdoLib import *"
   ]
  },
  {
   "cell_type": "code",
   "execution_count": 3,
   "metadata": {},
   "outputs": [],
   "source": [
    "G = 6.67e-11\n",
    "masa_tierra = 5.97e24\n",
    "masa_luna = 7.35e22\n"
   ]
  },
  {
   "cell_type": "markdown",
   "metadata": {},
   "source": [
    "$$m_n\\frac{d^2y}{dt^2}= -G \\frac{m_n m_T}{d^2_{nT}}\\widehat{X}$$\n",
    "\n",
    "$$\\widehat{X} = \\frac{\\overrightarrow{X}}{\\sqrt{x_i^2 + x_j^2}}$$"
   ]
  },
  {
   "cell_type": "code",
   "execution_count": 4,
   "metadata": {},
   "outputs": [],
   "source": [
    "# t -> tiempo escalar\n",
    "# ci -> [[xi, xj], [vi, vj]]\n",
    "    "
   ]
  },
  {
   "cell_type": "code",
   "execution_count": 5,
   "metadata": {},
   "outputs": [],
   "source": [
    "posicion_nave = numpy.array([5, -15])\n",
    "velocidad_nave = numpy.array([0, 0])"
   ]
  },
  {
   "cell_type": "code",
   "execution_count": 5,
   "metadata": {},
   "outputs": [],
   "source": [
    "t0 = 0\n",
    "tf = 13500\n",
    "dt = 0.1\n"
   ]
  },
  {
   "cell_type": "code",
   "execution_count": 6,
   "metadata": {},
   "outputs": [],
   "source": [
    "#resolver el modelo y graficar la trayectoria de la nave\n"
   ]
  },
  {
   "cell_type": "markdown",
   "metadata": {},
   "source": [
    "$$x = d_{luna} \\cos( \\frac{2\\pi}{T})$$\n",
    "\n",
    "$$y = d_{luna} \\sin( \\frac{2\\pi}{T})$$\n",
    "\n",
    "$T$ periodo"
   ]
  },
  {
   "cell_type": "code",
   "execution_count": 7,
   "metadata": {},
   "outputs": [],
   "source": [
    "distancia_luna = 384e6 # m\n",
    "# crear funcion que dado un tiempo t, devuelva la posicion de la luna"
   ]
  },
  {
   "cell_type": "markdown",
   "metadata": {},
   "source": [
    "$$m_n\\frac{d^2y}{dt^2}= -G \\frac{m_n m_T}{d^2_{nT}}\\widehat{X_n}- G \\frac{m_n m_L}{d^2_{nT}}(\\widehat{X_L}-\\widehat{X_n})$$\n",
    "\n",
    "$$\\widehat{X} = \\frac{\\overrightarrow{X}}{\\sqrt{x_i^2 + x_j^2}}$$\n"
   ]
  },
  {
   "cell_type": "code",
   "execution_count": null,
   "metadata": {},
   "outputs": [],
   "source": [
    "# Crear"
   ]
  },
  {
   "cell_type": "code",
   "execution_count": null,
   "metadata": {},
   "outputs": [],
   "source": []
  }
 ],
 "metadata": {
  "kernelspec": {
   "display_name": "Python 3",
   "language": "python",
   "name": "python3"
  },
  "language_info": {
   "codemirror_mode": {
    "name": "ipython",
    "version": 3
   },
   "file_extension": ".py",
   "mimetype": "text/x-python",
   "name": "python",
   "nbconvert_exporter": "python",
   "pygments_lexer": "ipython3",
   "version": "3.8.5"
  }
 },
 "nbformat": 4,
 "nbformat_minor": 4
}
