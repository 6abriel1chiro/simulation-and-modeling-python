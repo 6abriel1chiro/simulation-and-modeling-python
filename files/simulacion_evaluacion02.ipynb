{
  "cells": [
    {
      "cell_type": "code",
      "execution_count": null,
      "metadata": {
        "id": "MO4F7brWkezG"
      },
      "outputs": [],
      "source": [
        "\n",
        "import matplotlib\n",
        "from MatModels import *"
      ]
    },
    {
      "cell_type": "code",
      "execution_count": null,
      "metadata": {
        "id": "nYGWQBXvkezI"
      },
      "outputs": [],
      "source": [
        "G = 6.67e-11\n",
        "masa_tierra = 5.97e24\n",
        "masa_luna = 7.35e22\n"
      ]
    },
    {
      "cell_type": "markdown",
      "metadata": {
        "id": "0wz3UbwukezJ"
      },
      "source": [
        "$$m_n\\frac{d^2y}{dt^2}= -G \\frac{m_n m_T}{d^2_{nT}}\\widehat{X}$$\n",
        "\n",
        "$$\\widehat{X} = \\frac{\\overrightarrow{X}}{\\sqrt{x_i^2 + x_j^2}}$$"
      ]
    },
    {
      "cell_type": "code",
      "execution_count": null,
      "metadata": {
        "id": "ledUwKUikezM"
      },
      "outputs": [],
      "source": [
        "# t -> tiempo escalar\n",
        "# ci -> [[xi, xj], [vi, vj]]\n",
        "    "
      ]
    },
    {
      "cell_type": "code",
      "execution_count": null,
      "metadata": {
        "id": "c39DnrdUkezN"
      },
      "outputs": [],
      "source": [
        "posicion_nave = np.array([5, -15])\n",
        "velocidad_nave = np.array([0, 0])"
      ]
    },
    {
      "cell_type": "code",
      "execution_count": null,
      "metadata": {
        "id": "BUhevwIPkezO"
      },
      "outputs": [],
      "source": [
        "t0 = 0\n",
        "tf = 13500\n",
        "dt = 0.1\n"
      ]
    },
    {
      "cell_type": "code",
      "execution_count": null,
      "metadata": {
        "id": "41TJ6VaqkezO"
      },
      "outputs": [],
      "source": [
        "#resolver el modelo y graficar la trayectoria de la nave\n",
        "# t-> tiempo escalar , ci -> vecPosInicial (xi,xj) , velocidad -> (vi,vj)\n",
        "# ci-> [[ , ][ , ]]\n",
        "def modeloNave(t,ci):\n",
        "  vectorTierra = -ci[0] # vector xi xj\n",
        "  distanceTierra = np.sqrt(vectorTierra[0]**2 + vectorTierra[1]**2)\n",
        "  dvdt = G*(masa_tierra/distanceTierra ** 3)* vectorTierra\n",
        "  dydt = ci[1]\n",
        "\n",
        "  return np.array([dydt, dvdt])\n",
        "  \n"
      ]
    },
    {
      "cell_type": "code",
      "source": [
        "posNave = np.array([15e6, 1e6])\n",
        "velNave = np.array([2e3, 4e3])\n",
        "ci = np.array([posNave,velNave])\n",
        "t0 = 0 \n",
        "tf = 13500 #horas \n",
        "dt  = 0.1 \n"
      ],
      "metadata": {
        "id": "nuJs-TUdk_Sp"
      },
      "execution_count": null,
      "outputs": []
    },
    {
      "cell_type": "code",
      "source": [
        "Y, t = getRungeKutta(t0, tf, ci, modeloNave,dt)\n",
        "Y.shape\n",
        "\n",
        "Y[:,0][:,0], Y[:,0][:,1]\n",
        "\n",
        "\n",
        "plt.plot(Y[:,0][:,0], Y[:,0][:,1],label=\"trayectoria\") # [xi] , [xj]\n",
        "plt.scatter(0,0,label = \"tierra\")\n",
        "plt.scatter(15e6,1e6, c=\"red\" , label = \"nave\")\n",
        "plt.legend()\n",
        "plt.grid()\n"
      ],
      "metadata": {
        "colab": {
          "base_uri": "https://localhost:8080/",
          "height": 289
        },
        "id": "jl7--XpQlCUb",
        "outputId": "7c80bd6a-7778-49d8-c50d-1b2011175384"
      },
      "execution_count": null,
      "outputs": [
        {
          "output_type": "display_data",
          "data": {
            "text/plain": [
              "<Figure size 432x288 with 1 Axes>"
            ],
            "image/png": "[encoded data removed]"
          },
          "metadata": {
            "needs_background": "light"
          }
        }
      ]
    },
    {
      "cell_type": "markdown",
      "metadata": {
        "id": "G3EIXO1OkezP"
      },
      "source": [
        "$$x = d_{luna} \\cos( \\frac{2\\pi t}{T})$$\n",
        "\n",
        "$$y = d_{luna} \\sin( \\frac{2\\pi t}{T})$$\n",
        "\n",
        "$T$ periodo"
      ]
    },
    {
      "cell_type": "code",
      "execution_count": null,
      "metadata": {
        "id": "l4tYlHdykezR"
      },
      "outputs": [],
      "source": [
        "distancia_luna = 384e6 # m\n",
        "# crear funcion que dado un tiempo t, devuelva la posicion de la luna"
      ]
    },
    {
      "cell_type": "markdown",
      "metadata": {
        "id": "JYpdXgd2kezS"
      },
      "source": [
        "$$m_n\\frac{d^2y}{dt^2}= -G \\frac{m_n m_T}{d^2_{nT}}\\widehat{X_n}- G \\frac{m_n m_L}{d^2_{nT}}(\\widehat{X_L}-\\widehat{X_n})$$\n",
        "\n",
        "$$\\widehat{X} = \\frac{\\overrightarrow{X}}{\\sqrt{x_i^2 + x_j^2}}$$\n"
      ]
    },
    {
      "cell_type": "code",
      "execution_count": null,
      "metadata": {
        "id": "g5M89EqrkezT"
      },
      "outputs": [],
      "source": [
        "# Crear\n",
        "# tiempo que tarda en dar la vuelta\n",
        "T=97200    #27*24/24*3600\n",
        "\n",
        "def getPosLuna(t):\n",
        "    theta=2*np.pi*t/T\n",
        "    posx=distancia_luna*np.cos(theta)\n",
        "    posy=distancia_luna*np.sin(theta)\n",
        "    return np.array([posx,posy])"
      ]
    },
    {
      "cell_type": "code",
      "execution_count": null,
      "metadata": {
        "id": "x7kGLoYpkezU"
      },
      "outputs": [],
      "source": [
        "t = np.linspace(0,T,100)\n",
        "orbita=getPosLuna(t)\n",
        "\n"
      ]
    },
    {
      "cell_type": "code",
      "source": [
        "plt.plot(orbita[0,:], orbita[1,:])\n",
        "plt.grid()\n",
        "plt.show()"
      ],
      "metadata": {
        "colab": {
          "base_uri": "https://localhost:8080/",
          "height": 289
        },
        "id": "NrirIPb7oghb",
        "outputId": "c1b0500f-d2cf-48e8-9348-e82612788417"
      },
      "execution_count": null,
      "outputs": [
        {
          "output_type": "display_data",
          "data": {
            "text/plain": [
              "<Figure size 432x288 with 1 Axes>"
            ],
            "image/png": "[encoded data removed]"
          },
          "metadata": {
            "needs_background": "light"
          }
        }
      ]
    },
    {
      "cell_type": "code",
      "source": [
        "#G = 6.67e-11\n",
        "#masa_tierra = 5.97e24\n",
        "#masa_luna = 7.35e22\n",
        "\n",
        "# np.linalg.norm (modulo vector unitario)"
      ],
      "metadata": {
        "id": "ER4aO0I9xNl7"
      },
      "execution_count": null,
      "outputs": []
    },
    {
      "cell_type": "code",
      "source": [
        "def modeloNaveLuna(t,ci):\n",
        "    VectorTierra=-ci[0]\n",
        "    posLuna=getPosLuna(t)\n",
        "    VectorLuna=posLuna-ci[0]\n",
        "    dvdt=G*(VectorTierra*masa_tierra/np.linalg.norm(VectorTierra)**3+masa_luna*VectorLuna/np.linalg.norm(VectorLuna)**3)\n",
        "    dydt=ci[1]\n",
        "    return np.array([dydt,dvdt])\n",
        "  "
      ],
      "metadata": {
        "id": "6covSbZRnlM8"
      },
      "execution_count": null,
      "outputs": []
    },
    {
      "cell_type": "code",
      "source": [
        "\n",
        "  \n",
        "posNave = np.array([15e6, 1e6])\n",
        "velNave = np.array([2e3, 4e3])\n",
        "ci = np.array([posNave,velNave])\n",
        "t0 = 0 \n",
        "tf = 97200 #horas \n",
        "dt  = 0.1 \n"
      ],
      "metadata": {
        "id": "Rln71TKHt17F"
      },
      "execution_count": null,
      "outputs": []
    },
    {
      "cell_type": "code",
      "source": [
        "Y, t = getRungeKutta(0,tf, ci, modeloNaveLuna,dt)\n",
        "\n",
        "orbita=getPosLuna(t)\n",
        "\n",
        "plt.plot(Y[:,0][:,0], Y[:,0][:,1],label=\"cohete\") # [xi] , [xj]\n",
        "plt.plot(orbita[0,:],orbita[1,:],label=\"luna\",color=\"blue\")\n",
        "plt.scatter(0,0,label = \"tierra\")\n",
        "\n",
        "\n",
        "plt.legend()\n",
        "plt.grid()"
      ],
      "metadata": {
        "id": "kFlfyJl1oVwQ",
        "colab": {
          "base_uri": "https://localhost:8080/",
          "height": 324
        },
        "outputId": "bb1a6df3-1041-4475-95e1-b892c976b441"
      },
      "execution_count": null,
      "outputs": [
        {
          "output_type": "stream",
          "name": "stderr",
          "text": [
            "/usr/local/lib/python3.7/dist-packages/IPython/core/pylabtools.py:128: UserWarning: Creating legend with loc=\"best\" can be slow with large amounts of data.\n",
            "  fig.canvas.print_figure(bytes_io, **kw)\n"
          ]
        },
        {
          "output_type": "display_data",
          "data": {
            "text/plain": [
              "<Figure size 432x288 with 1 Axes>"
            ],
            "image/png": "[encoded data removed]"
          },
          "metadata": {
            "needs_background": "light"
          }
        }
      ]
    },
    {
      "cell_type": "code",
      "source": [],
      "metadata": {
        "id": "CxvxsXGPWR0r"
      },
      "execution_count": null,
      "outputs": []
    }
  ],
  "metadata": {
    "kernelspec": {
      "display_name": "Python 3",
      "language": "python",
      "name": "python3"
    },
    "language_info": {
      "codemirror_mode": {
        "name": "ipython",
        "version": 3
      },
      "file_extension": ".py",
      "mimetype": "text/x-python",
      "name": "python",
      "nbconvert_exporter": "python",
      "pygments_lexer": "ipython3",
      "version": "3.8.5"
    },
    "colab": {
      "provenance": [],
      "collapsed_sections": []
    }
  },
  "nbformat": 4,
  "nbformat_minor": 0
}