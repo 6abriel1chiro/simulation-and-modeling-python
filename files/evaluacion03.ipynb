{
  "cells": [
    {
      "cell_type": "raw",
      "metadata": {
        "id": "SoV5nKqwyXe9"
      },
      "source": []
    },
    {
      "cell_type": "code",
      "source": [
        "from MatModels import *\n",
        "import pandas as pd"
      ],
      "metadata": {
        "id": "phoSMp8WybQh"
      },
      "execution_count": 6,
      "outputs": []
    },
    {
      "cell_type": "markdown",
      "metadata": {
        "id": "s59bMeUFyXe_"
      },
      "source": [
        "# 1.Parque zoologico\n",
        "\n",
        "Suponga que se aparta suficiente terreno para la preservación de los elefantes y que hay entonces suficiente espacio para muchos más territorios que elefantes. En consecuencia, no habrá peligro de una sobrepoblación. Sin embargo, si la pobláción es muy pequeña, los adultos fértiles tendrán dificultad en encontrarse cuando sea el tiempo de apareamiento. Modele la población de elefantes con base en esas hipótesis. (Notar que hay más de un modelo razonable que se ajusta a esas suposiciones. Graficar y conjeturar el modelo"
      ]
    },
    {
      "cell_type": "code",
      "execution_count": 78,
      "metadata": {
        "id": "ICy_IQn2yXfE"
      },
      "outputs": [],
      "source": [
        "#rN\n",
        "#N poblacion\n",
        "# k constante de crecimiento aprox sacada de os datos obtenidos de un dataset\n",
        "#k = 1 / t_real[1] * numpy.log(p_real[1]/p_real[0])\n",
        "# P poblacion actual / N tamanio del territorio \n",
        "#vemos que con el territrio teoricamente ilimitado que tenemos, al tener una poblacion pequena \n",
        "#N distancia entre los elefantitos\n",
        "# a mas distancia los elefantitos batallan mas en reproducirse y tardan mas en crecer\n",
        "def get_Pop(t,P,k,N):\n",
        "  dPdt = k*P*(1 - P/N)\n",
        "  return dPdt\n",
        "\n",
        "\n"
      ]
    },
    {
      "cell_type": "code",
      "source": [
        "res = get_euler(0, 1000,200,get_Pop,0.01 ,0.03,5000)\n",
        "plt.plot(res[1], res[0], c='red', label=\"poblacion\")\n",
        "plt.grid()\n",
        "plt.xlabel(\"tiempo\")\n",
        "plt.ylabel(\"poblacion\")\n",
        "plt.legend()"
      ],
      "metadata": {
        "colab": {
          "base_uri": "https://localhost:8080/",
          "height": 296
        },
        "id": "D5r82GMg6t2B",
        "outputId": "84677780-ddc5-4a32-e217-4699cfc7aae9"
      },
      "execution_count": 79,
      "outputs": [
        {
          "output_type": "execute_result",
          "data": {
            "text/plain": [
              "<matplotlib.legend.Legend at 0x7f4713beb490>"
            ]
          },
          "metadata": {},
          "execution_count": 79
        },
        {
          "output_type": "display_data",
          "data": {
            "text/plain": [
              "<Figure size 432x288 with 1 Axes>"
            ],
            "image/png": "[encoded data removed]"
          },
          "metadata": {
            "needs_background": "light"
          }
        }
      ]
    },
    {
      "cell_type": "markdown",
      "metadata": {
        "id": "PqZNx7rPyXfF"
      },
      "source": [
        "# 2. Población de pájaros\n",
        "\n",
        "El taragachi es un pájaro muy conocido en Mizque. Se tienen datos sobre la población de Taragachis: \"taragachi.csv\". \n",
        "* ¿Qué modelo de población usaría usted para modelar esta población?\n",
        "* Modelar y simular el crecimiento del targachi."
      ]
    },
    {
      "cell_type": "code",
      "execution_count": 94,
      "metadata": {
        "colab": {
          "base_uri": "https://localhost:8080/"
        },
        "id": "cEsNxz2NyXfG",
        "outputId": "c2ed0e9b-4a35-4b91-8c79-c6cfc8f83660"
      },
      "outputs": [
        {
          "output_type": "execute_result",
          "data": {
            "text/plain": [
              "array([[1947.,   34.],\n",
              "       [1948.,   40.],\n",
              "       [1949.,   40.],\n",
              "       [1950.,   40.],\n",
              "       [1951.,   42.],\n",
              "       [1952.,   48.],\n",
              "       [1943.,   48.],\n",
              "       [1954.,   52.],\n",
              "       [1955.,   60.],\n",
              "       [1956.,   64.],\n",
              "       [1957.,   64.],\n",
              "       [1958.,   62.],\n",
              "       [1959.,   64.]])"
            ]
          },
          "metadata": {},
          "execution_count": 94
        }
      ],
      "source": [
        "\n",
        "data = np.loadtxt(\"taragachi.csv\", delimiter=\",\")\n",
        "\n",
        "#data = pd.read_csv(\"taragachi.csv\")\n",
        "data\n",
        "\n",
        "\n"
      ]
    },
    {
      "cell_type": "code",
      "source": [
        "#capturamos tiempos y poblacion\n",
        "t_real = data[:, 0] # capturamos todas las filas (:), de la primera columna\n",
        "p_real = data[:, 1] # capturamos todas las filas (:), de la segunda columna\n",
        "p0 = t_real[0]\n",
        "t_real = t_real - p0  # 1790 sera nuestro t=0\n",
        "\n",
        "k = 1 / t_real[1] * np.log(p_real[1]/p_real[0])\n",
        "k"
      ],
      "metadata": {
        "colab": {
          "base_uri": "https://localhost:8080/"
        },
        "id": "UbS9h2P5CJvj",
        "outputId": "396fd762-8cd4-4fcf-c066-5fc5bd6d5136"
      },
      "execution_count": 95,
      "outputs": [
        {
          "output_type": "execute_result",
          "data": {
            "text/plain": [
              "0.16251892949777494"
            ]
          },
          "metadata": {},
          "execution_count": 95
        }
      ]
    },
    {
      "cell_type": "code",
      "source": [
        "# creamos un array tiempo desde 0 hasta 250 dividido en 200 partes\n",
        "tiempos = np.linspace(0, 200, 200)\n",
        "\n",
        "# calculamos array de poblacion para cada t del vector creado \"tiempos\"\n",
        "poblacion = getPoblacion(p0, k, tiempos)\n"
      ],
      "metadata": {
        "id": "FGx4dOXQBBOc"
      },
      "execution_count": 87,
      "outputs": []
    },
    {
      "cell_type": "code",
      "source": [
        "def getPoblacion(p0, k, t):\n",
        "  p = p0 * np.exp(k * t)\n",
        "  return p"
      ],
      "metadata": {
        "id": "2nAKxicRBHd7"
      },
      "execution_count": 85,
      "outputs": []
    },
    {
      "cell_type": "code",
      "source": [
        "# graficamos la simulación de nuestro modelo para ver su comportamiento en el tiempo\n",
        "plt.plot(tiempos, poblacion)\n",
        "plt.grid() # mostrar grilla en la grafica\n",
        "plt.xlabel(\"Años\") # etiquetar eje x\n",
        "plt.ylabel(\"Poblacion\") #etiquetar eje y\n",
        "plt.title(\"Simulacion del modelo\")"
      ],
      "metadata": {
        "colab": {
          "base_uri": "https://localhost:8080/",
          "height": 312
        },
        "id": "P-sQIyyGBQNE",
        "outputId": "ce5d0531-7aae-4390-8f37-fd9262955f46"
      },
      "execution_count": 89,
      "outputs": [
        {
          "output_type": "execute_result",
          "data": {
            "text/plain": [
              "Text(0.5, 1.0, 'Simulacion del modelo')"
            ]
          },
          "metadata": {},
          "execution_count": 89
        },
        {
          "output_type": "display_data",
          "data": {
            "text/plain": [
              "<Figure size 432x288 with 1 Axes>"
            ],
            "image/png": "[encoded data removed]"
          },
          "metadata": {
            "needs_background": "light"
          }
        }
      ]
    },
    {
      "cell_type": "code",
      "source": [
        "# comparamos datos reales y datos simulados con nuestro modelo\n",
        "plt.plot(tiempos, poblacion, color='red', label=\"Poblacion Simulada\")\n",
        "plt.scatter(t_real, p_real, label=\"Poblacion Real\")\n",
        "plt.grid()\n",
        "plt.legend()\n",
        "plt.xlabel(\"Años\")\n",
        "plt.ylabel(\"Poblacion\")\n",
        "#LOS PAJAROS SE MUEREN MAS RAPIDO PERO EL MODELO SE AJUSTA BIEN \n",
        "# CUANDO LOS PAJAROS SON POCOS Y NO SE MUEREN , EL MODELO SE AJUSTA BIEN "
      ],
      "metadata": {
        "colab": {
          "base_uri": "https://localhost:8080/",
          "height": 307
        },
        "id": "w2TIRJndBUK9",
        "outputId": "afc37298-430d-4f07-ae17-89faafa811ee"
      },
      "execution_count": 93,
      "outputs": [
        {
          "output_type": "execute_result",
          "data": {
            "text/plain": [
              "Text(0, 0.5, 'Poblacion')"
            ]
          },
          "metadata": {},
          "execution_count": 93
        },
        {
          "output_type": "display_data",
          "data": {
            "text/plain": [
              "<Figure size 432x288 with 1 Axes>"
            ],
            "image/png": "[encoded data removed]"
          },
          "metadata": {
            "needs_background": "light"
          }
        }
      ]
    },
    {
      "cell_type": "markdown",
      "metadata": {
        "id": "l7JOm1IgyXfH"
      },
      "source": [
        "# 3. Población de peces\n",
        "\n",
        "Suponga que una especie de pez en un lago específico tiene una población que sigue\n",
        "el modelo logístico de población con razón $k$ de crecimiento 0.2, capacidad $N$ de soporte\n",
        "y tiempo $t$ medido en años. Ajuste el modelo para tomar en cuenta cada una de las situaciones siguientes.\n",
        "\n",
        "* 100 peces son cultivados cada año.\n",
        "* Un tercio de la población de peces es cultivada anualmente.\n",
        "* El número de peces cultivados cada año es proporcional a la raíz cuadrada del número de peces en el lago"
      ]
    },
    {
      "cell_type": "code",
      "execution_count": 121,
      "metadata": {
        "id": "G68zCu2WyXfI"
      },
      "outputs": [],
      "source": [
        "#N 2000\n",
        "def get_logisticoPeces(t, P, k,N):\n",
        "  dPdt = (k*P*(1 - P/N) )*np.sqrt(P+P/3)\n",
        "  return dPdt"
      ]
    },
    {
      "cell_type": "code",
      "source": [
        "res = get_euler(0,1000,100,get_logisticoPeces,0.1 ,0.2,1000)\n",
        "plt.plot(res[1], res[0], c='red', label=\"poblacion\")\n",
        "plt.grid()\n",
        "plt.xlabel(\"tiempo\")\n",
        "plt.ylabel(\"poblacion\")\n",
        "plt.legend()\n",
        "# los peces crecen muy rapido , que bien por los peces"
      ],
      "metadata": {
        "colab": {
          "base_uri": "https://localhost:8080/",
          "height": 296
        },
        "id": "j79a2p5TGD0e",
        "outputId": "01dc89f1-e3e2-42ae-c49c-248f351aa2e1"
      },
      "execution_count": 122,
      "outputs": [
        {
          "output_type": "execute_result",
          "data": {
            "text/plain": [
              "<matplotlib.legend.Legend at 0x7f4713678b90>"
            ]
          },
          "metadata": {},
          "execution_count": 122
        },
        {
          "output_type": "display_data",
          "data": {
            "text/plain": [
              "<Figure size 432x288 with 1 Axes>"
            ],
            "image/png": "[encoded data removed]"
          },
          "metadata": {
            "needs_background": "light"
          }
        }
      ]
    },
    {
      "cell_type": "markdown",
      "metadata": {
        "id": "fuDF05RAyXfI"
      },
      "source": [
        "# 4. Población suceptible\n",
        "\n",
        "Suponga que una población puede ser modelada precisamente por la ecuación logística. Considere que el parámetro de razón de crecimiento es 0.4 y la capacidad de soporte es 30.\n",
        "\n",
        "Suponga que en el tiempo $t = 5$ se presenta una enfermedad en la población que mata 25% de la población por año. Modelar y simular el sistema con $P(0) = 30$ y $P(0) = 20$. Interpretar y explicar ambos comportamiento"
      ]
    },
    {
      "cell_type": "code",
      "execution_count": 106,
      "metadata": {
        "id": "e6CchWyRyXfJ"
      },
      "outputs": [],
      "source": [
        "def get_logistico(t, P, k,N):\n",
        "  dPdt = k*P*(1 - P/N)\n",
        "  if t==5:\n",
        "    muerte = P*0.25\n",
        "    dPdt = (k*P*(1 - P/N)) - muerte\n",
        "  return dPdt"
      ]
    },
    {
      "cell_type": "code",
      "execution_count": 111,
      "metadata": {
        "colab": {
          "base_uri": "https://localhost:8080/",
          "height": 296
        },
        "id": "jCXq-KmEyXfK",
        "outputId": "e4305b11-88aa-498f-949c-3b1111f6b942"
      },
      "outputs": [
        {
          "output_type": "execute_result",
          "data": {
            "text/plain": [
              "<matplotlib.legend.Legend at 0x7f4713b13b10>"
            ]
          },
          "metadata": {},
          "execution_count": 111
        },
        {
          "output_type": "display_data",
          "data": {
            "text/plain": [
              "<Figure size 432x288 with 1 Axes>"
            ],
            "image/png": "[encoded data removed]"
          },
          "metadata": {
            "needs_background": "light"
          }
        }
      ],
      "source": [
        "res = get_euler(0,10,20,get_logistico,1 ,0.4,30)\n",
        "plt.plot(res[1], res[0], c='red', label=\"poblacion\")\n",
        "plt.grid()\n",
        "plt.xlabel(\"tiempo\")\n",
        "plt.ylabel(\"poblacion\")\n",
        "plt.legend()\n",
        "# se ve como en el tiempo 5 empiezan las muertes pero luego se recuperan normalmente"
      ]
    },
    {
      "cell_type": "code",
      "source": [
        "res = get_euler(0,10,30,get_logistico,1 ,0.4,30)\n",
        "plt.plot(res[1], res[0], c='red', label=\"poblacion\")\n",
        "plt.grid()\n",
        "plt.xlabel(\"tiempo\")\n",
        "plt.ylabel(\"poblacion\")\n",
        "plt.legend()\n",
        "\n",
        "#hacion mas constante al principio y luego de las muertes, toma un poco mas en recuperarse la poblcion \n",
        "# el 25 % de 30 es mas que el 25% de 20"
      ],
      "metadata": {
        "colab": {
          "base_uri": "https://localhost:8080/",
          "height": 296
        },
        "id": "IAmRw07lDkLS",
        "outputId": "b8f5c75e-5b31-44c4-a0fc-b84fdd6d3198"
      },
      "execution_count": 112,
      "outputs": [
        {
          "output_type": "execute_result",
          "data": {
            "text/plain": [
              "<matplotlib.legend.Legend at 0x7f471394afd0>"
            ]
          },
          "metadata": {},
          "execution_count": 112
        },
        {
          "output_type": "display_data",
          "data": {
            "text/plain": [
              "<Figure size 432x288 with 1 Axes>"
            ],
            "image/png": "[encoded data removed]"
          },
          "metadata": {
            "needs_background": "light"
          }
        }
      ]
    },
    {
      "cell_type": "markdown",
      "metadata": {
        "id": "cq7CbiVwyXfK"
      },
      "source": [
        "# 5. Depredador presa con recursos limitados.\n",
        "\n",
        "Considere el sistema de ecuaciones depredador-presa: conejos zorros. El entorno proporciona un limite de conejos que pueden alimentarse de los vegatales $N=3$, considere el parametro de crecimiento del conejo en 2, decrecimiento del zorro 16. a constante de proporcionalidad de que un conejo se encuentre con un zorro es de 1. Y constante de proporcionalidad de que un zorro caze un conejo es de 4.\n",
        "    \n",
        "Modelar y ejecutar la simulacion en 10 años. Iniciar conuna poblacion de $Z=1$, $C=8$ Que predice el modelo? explicar el comportamiento."
      ]
    },
    {
      "cell_type": "code",
      "execution_count": 115,
      "metadata": {
        "id": "l4fZ1tzqyXfL"
      },
      "outputs": [],
      "source": [
        "def ecosistema(t, ci, a, b, c, d, N):\n",
        "  dcdt = a * ci[0] - b * ci[0] * ci[1] # ci es un vector\n",
        "  dzdt = -c * ci[1] + d * ci[0] * ci[1]\n",
        "  return np.array([dcdt, dzdt])"
      ]
    },
    {
      "cell_type": "code",
      "source": [],
      "metadata": {
        "id": "4SklRwcEFD7q"
      },
      "execution_count": 115,
      "outputs": []
    },
    {
      "cell_type": "code",
      "execution_count": 116,
      "metadata": {
        "colab": {
          "base_uri": "https://localhost:8080/",
          "height": 265
        },
        "id": "YeTBzwL6yXfL",
        "outputId": "95d0e52b-1e51-4999-e816-d798fc3170b5"
      },
      "outputs": [
        {
          "output_type": "display_data",
          "data": {
            "text/plain": [
              "<Figure size 432x288 with 1 Axes>"
            ],
            "image/png": "[encoded data removed]"
          },
          "metadata": {
            "needs_background": "light"
          }
        }
      ],
      "source": [
        "# v = f(t)\n",
        "ci = np.array([1.0,8.0]) # 100 y 50\n",
        "Y, t = getRungeKutta(0,20,ci, ecosistema, 0.01 ,2.0, 16.0, 1,4, 3)\n",
        " \n",
        "plt.plot(t,Y[:,0], label = \"poblacion conejos\")\n",
        "plt.plot(t,Y[:,1], label = \"poblacion zorros\")\n",
        "plt.legend()\n",
        "plt.grid()"
      ]
    },
    {
      "cell_type": "code",
      "execution_count": 117,
      "metadata": {
        "id": "G-pS3s-LyXfM"
      },
      "outputs": [],
      "source": [
        "# claramente los zorros extinguieron a los conejos y despues se quedaron sin comida"
      ]
    },
    {
      "cell_type": "code",
      "execution_count": null,
      "metadata": {
        "id": "ZK_S8jiAyXfM"
      },
      "outputs": [],
      "source": []
    },
    {
      "cell_type": "code",
      "execution_count": null,
      "metadata": {
        "id": "UGaHyiEUyXfM"
      },
      "outputs": [],
      "source": []
    }
  ],
  "metadata": {
    "kernelspec": {
      "display_name": "Python 3",
      "language": "python",
      "name": "python3"
    },
    "language_info": {
      "codemirror_mode": {
        "name": "ipython",
        "version": 3
      },
      "file_extension": ".py",
      "mimetype": "text/x-python",
      "name": "python",
      "nbconvert_exporter": "python",
      "pygments_lexer": "ipython3",
      "version": "3.8.5"
    },
    "colab": {
      "provenance": [],
      "collapsed_sections": []
    }
  },
  "nbformat": 4,
  "nbformat_minor": 0
}